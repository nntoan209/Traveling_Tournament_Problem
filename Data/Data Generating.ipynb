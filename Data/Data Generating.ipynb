{
 "cells": [
  {
   "cell_type": "code",
   "execution_count": 1,
   "id": "fd07b45c",
   "metadata": {},
   "outputs": [],
   "source": [
    "import random as rd"
   ]
  },
  {
   "cell_type": "code",
   "execution_count": 2,
   "id": "db08029a",
   "metadata": {},
   "outputs": [],
   "source": [
    "def generate(filename, n):\n",
    "    d = [[0 for j in range(n)] for i in range(n)]    #Creating a (n x n) symmertric matrix\n",
    "    for i in range(n):\n",
    "        for j in range(n):\n",
    "            if i < j:\n",
    "                d[i][j] = rd.randint(1, 10)   #The distance between any 2 teams is between 1 and 10\n",
    "            elif i > j:\n",
    "                d[i][j] = d[j][i]\n",
    "    with open(filename, 'w') as f:   #Write the data into the file\n",
    "        f.write(str(n) + '\\n')\n",
    "        for i in range(n):\n",
    "            for j in range(n):\n",
    "                f.write(str(d[i][j]) + ' ')\n",
    "            f.write('\\n')"
   ]
  },
  {
   "cell_type": "code",
   "execution_count": 4,
   "id": "a08807a7",
   "metadata": {},
   "outputs": [],
   "source": [
    "for n in range(4, 11, 2):   #The number of teams is 4, 6, 8, 10\n",
    "    for i in range(1, 51):   #For each number of teams, generate 50 data file\n",
    "        filename = f'Data/data{n}/ttp{n}_{i}.txt'\n",
    "        generate(filename, n)"
   ]
  }
 ],
 "metadata": {
  "kernelspec": {
   "display_name": "Python 3",
   "language": "python",
   "name": "python3"
  },
  "language_info": {
   "codemirror_mode": {
    "name": "ipython",
    "version": 3
   },
   "file_extension": ".py",
   "mimetype": "text/x-python",
   "name": "python",
   "nbconvert_exporter": "python",
   "pygments_lexer": "ipython3",
   "version": "3.9.4"
  }
 },
 "nbformat": 4,
 "nbformat_minor": 5
}
